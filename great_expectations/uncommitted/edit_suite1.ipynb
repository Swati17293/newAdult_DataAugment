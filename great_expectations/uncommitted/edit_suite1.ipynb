{
 "cells": [
  {
   "cell_type": "markdown",
   "id": "acca08cb",
   "metadata": {},
   "source": [
    "# Edit Your Expectation Suite\n",
    "Use this notebook to recreate and modify your expectation suite:\n",
    "\n",
    "**Expectation Suite Name**: `suite1`\n",
    "\n",
    "We'd love it if you **reach out to us on** the [**Great Expectations Slack Channel**](https://greatexpectations.io/slack)"
   ]
  },
  {
   "cell_type": "code",
   "execution_count": null,
   "id": "c7eb8d06",
   "metadata": {},
   "outputs": [],
   "source": [
    "import datetime\n",
    "import great_expectations as ge\n",
    "import great_expectations.jupyter_ux\n",
    "from great_expectations.data_context.types.resource_identifiers import ValidationResultIdentifier\n",
    "\n",
    "context = ge.data_context.DataContext()\n",
    "\n",
    "# Feel free to change the name of your suite here. Renaming this will not\n",
    "# remove the other one.\n",
    "expectation_suite_name = \"suite1\"\n",
    "suite = context.get_expectation_suite(expectation_suite_name)\n",
    "suite.expectations = []\n",
    "\n",
    "batch_kwargs = {'data_asset_name': 'Employment_acs_data_ny', 'datasource': 'csvTask__dir', 'path': '/home/swati/postdoc/great_expectations/../csvTask/Employment_acs_data_ny.csv'}\n",
    "batch = context.get_batch(batch_kwargs, suite)\n",
    "batch.head()"
   ]
  },
  {
   "cell_type": "markdown",
   "id": "64ca02a5",
   "metadata": {},
   "source": [
    "## Create & Edit Expectations\n",
    "\n",
    "Add expectations by calling specific expectation methods on the `batch` object. They all begin with `.expect_` which makes autocompleting easy using tab.\n",
    "\n",
    "You can see all the available expectations in the **[expectation glossary](https://docs.greatexpectations.io/en/latest/reference/glossary_of_expectations.html?utm_source=notebook&utm_medium=create_expectations)**."
   ]
  },
  {
   "cell_type": "markdown",
   "id": "3e8af464",
   "metadata": {},
   "source": [
    "### Table Expectation(s)"
   ]
  },
  {
   "cell_type": "markdown",
   "id": "4cae7a47",
   "metadata": {},
   "source": [
    "No table level expectations are in this suite. Feel free to add some here. They all begin with `batch.expect_table_...`."
   ]
  },
  {
   "cell_type": "markdown",
   "id": "37008884",
   "metadata": {},
   "source": [
    "### Column Expectation(s)"
   ]
  },
  {
   "cell_type": "markdown",
   "id": "93bc2a06",
   "metadata": {},
   "source": [
    "#### `AGEP`"
   ]
  },
  {
   "cell_type": "code",
   "execution_count": null,
   "id": "217424a4",
   "metadata": {},
   "outputs": [],
   "source": [
    "batch.expect_column_values_to_not_be_null(column='AGEP')"
   ]
  },
  {
   "cell_type": "code",
   "execution_count": null,
   "id": "bc629e57",
   "metadata": {},
   "outputs": [],
   "source": [
    "batch.expect_column_max_to_be_between(column='AGEP', max_value=95, min_value=0)"
   ]
  },
  {
   "cell_type": "code",
   "execution_count": null,
   "id": "0eb0c0b3",
   "metadata": {},
   "outputs": [],
   "source": [
    "batch.expect_column_min_to_be_between(column='AGEP', max_value=95, min_value=0)"
   ]
  },
  {
   "cell_type": "markdown",
   "id": "3cf78cc8",
   "metadata": {},
   "source": [
    "#### `SCHL`"
   ]
  },
  {
   "cell_type": "code",
   "execution_count": null,
   "id": "92fae775",
   "metadata": {},
   "outputs": [],
   "source": [
    "batch.expect_column_values_to_not_be_null(column='SCHL')"
   ]
  },
  {
   "cell_type": "code",
   "execution_count": null,
   "id": "36164255",
   "metadata": {},
   "outputs": [],
   "source": [
    "batch.expect_column_values_to_be_in_set(column='SCHL', value_set=[1, 2, 3, 4, 5, 6, 7, 8, 9, 10, 11, 12, 13, 14, 15, 16, 17, 18, 19, 20, 21, 22, 23, 24])"
   ]
  },
  {
   "cell_type": "markdown",
   "id": "b203f6ed",
   "metadata": {},
   "source": [
    "#### `MAR`"
   ]
  },
  {
   "cell_type": "code",
   "execution_count": null,
   "id": "d704b846",
   "metadata": {},
   "outputs": [],
   "source": [
    "batch.expect_column_values_to_not_be_null(column='MAR')"
   ]
  },
  {
   "cell_type": "code",
   "execution_count": null,
   "id": "1be4ee9e",
   "metadata": {},
   "outputs": [],
   "source": [
    "batch.expect_column_values_to_be_in_set(column='MAR', value_set=[1, 2, 3, 4, 5])"
   ]
  },
  {
   "cell_type": "markdown",
   "id": "8d8f1b1f",
   "metadata": {},
   "source": [
    "#### `DIS`"
   ]
  },
  {
   "cell_type": "code",
   "execution_count": null,
   "id": "b2bbb4d5",
   "metadata": {},
   "outputs": [],
   "source": [
    "batch.expect_column_values_to_not_be_null(column='DIS')"
   ]
  },
  {
   "cell_type": "code",
   "execution_count": null,
   "id": "227f0fe1",
   "metadata": {},
   "outputs": [],
   "source": [
    "batch.expect_column_values_to_be_in_set(column='DIS', value_set=[1, 2])"
   ]
  },
  {
   "cell_type": "markdown",
   "id": "512feef0",
   "metadata": {},
   "source": [
    "#### `ESP`"
   ]
  },
  {
   "cell_type": "code",
   "execution_count": null,
   "id": "7213d30f",
   "metadata": {},
   "outputs": [],
   "source": [
    "batch.expect_column_values_to_not_be_null(column='ESP')"
   ]
  },
  {
   "cell_type": "code",
   "execution_count": null,
   "id": "fe82b6f2",
   "metadata": {},
   "outputs": [],
   "source": [
    "batch.expect_column_values_to_be_in_set(column='ESP', value_set=[1, 2, 3, 4, 5, 6, 7, 8])"
   ]
  },
  {
   "cell_type": "markdown",
   "id": "787e5e4f",
   "metadata": {},
   "source": [
    "#### `CIT`"
   ]
  },
  {
   "cell_type": "code",
   "execution_count": null,
   "id": "af8839e3",
   "metadata": {},
   "outputs": [],
   "source": [
    "batch.expect_column_values_to_not_be_null(column='CIT')"
   ]
  },
  {
   "cell_type": "code",
   "execution_count": null,
   "id": "8cad1121",
   "metadata": {},
   "outputs": [],
   "source": [
    "batch.expect_column_values_to_be_in_set(column='CIT', value_set=[1, 2, 3, 4, 5])"
   ]
  },
  {
   "cell_type": "markdown",
   "id": "7893571a",
   "metadata": {},
   "source": [
    "#### `MIG`"
   ]
  },
  {
   "cell_type": "code",
   "execution_count": null,
   "id": "00fbf21f",
   "metadata": {},
   "outputs": [],
   "source": [
    "batch.expect_column_values_to_not_be_null(column='MIG')"
   ]
  },
  {
   "cell_type": "code",
   "execution_count": null,
   "id": "550524f8",
   "metadata": {},
   "outputs": [],
   "source": [
    "batch.expect_column_values_to_be_in_set(column='MIG', value_set=[1, 2, 3])"
   ]
  },
  {
   "cell_type": "markdown",
   "id": "195f0956",
   "metadata": {},
   "source": [
    "#### `MIL`"
   ]
  },
  {
   "cell_type": "code",
   "execution_count": null,
   "id": "64b8067e",
   "metadata": {},
   "outputs": [],
   "source": [
    "batch.expect_column_values_to_not_be_null(column='MIL')"
   ]
  },
  {
   "cell_type": "code",
   "execution_count": null,
   "id": "3160191e",
   "metadata": {},
   "outputs": [],
   "source": [
    "batch.expect_column_values_to_be_in_set(column='MIL', value_set=[1, 2, 3, 4])"
   ]
  },
  {
   "cell_type": "markdown",
   "id": "66290bb6",
   "metadata": {},
   "source": [
    "#### `ANC`"
   ]
  },
  {
   "cell_type": "code",
   "execution_count": null,
   "id": "8504dc01",
   "metadata": {},
   "outputs": [],
   "source": [
    "batch.expect_column_values_to_not_be_null(column='ANC')"
   ]
  },
  {
   "cell_type": "code",
   "execution_count": null,
   "id": "dc9079d1",
   "metadata": {},
   "outputs": [],
   "source": [
    "batch.expect_column_values_to_be_in_set(column='ANC', value_set=[1, 2, 3, 4, 8])"
   ]
  },
  {
   "cell_type": "markdown",
   "id": "d0ab23ab",
   "metadata": {},
   "source": [
    "#### `NATIVITY`"
   ]
  },
  {
   "cell_type": "code",
   "execution_count": null,
   "id": "215d5e7c",
   "metadata": {},
   "outputs": [],
   "source": [
    "batch.expect_column_values_to_not_be_null(column='NATIVITY')"
   ]
  },
  {
   "cell_type": "code",
   "execution_count": null,
   "id": "31ef482d",
   "metadata": {},
   "outputs": [],
   "source": [
    "batch.expect_column_values_to_be_in_set(column='NATIVITY', value_set=[1, 2])"
   ]
  },
  {
   "cell_type": "markdown",
   "id": "fa05ab0d",
   "metadata": {},
   "source": [
    "#### `DEAR`"
   ]
  },
  {
   "cell_type": "code",
   "execution_count": null,
   "id": "4797433c",
   "metadata": {},
   "outputs": [],
   "source": [
    "batch.expect_column_values_to_not_be_null(column='DEAR')"
   ]
  },
  {
   "cell_type": "code",
   "execution_count": null,
   "id": "0fb200f5",
   "metadata": {},
   "outputs": [],
   "source": [
    "batch.expect_column_values_to_be_in_set(column='DEAR', value_set=[1, 2])"
   ]
  },
  {
   "cell_type": "markdown",
   "id": "996a6c62",
   "metadata": {},
   "source": [
    "#### `DEYE`"
   ]
  },
  {
   "cell_type": "code",
   "execution_count": null,
   "id": "2520e33a",
   "metadata": {},
   "outputs": [],
   "source": [
    "batch.expect_column_values_to_not_be_null(column='DEYE')"
   ]
  },
  {
   "cell_type": "code",
   "execution_count": null,
   "id": "5baff260",
   "metadata": {},
   "outputs": [],
   "source": [
    "batch.expect_column_values_to_be_in_set(column='DEYE', value_set=[1, 2])"
   ]
  },
  {
   "cell_type": "markdown",
   "id": "39153324",
   "metadata": {},
   "source": [
    "#### `DREM`"
   ]
  },
  {
   "cell_type": "code",
   "execution_count": null,
   "id": "a6659069",
   "metadata": {},
   "outputs": [],
   "source": [
    "batch.expect_column_values_to_not_be_null(column='DREM')"
   ]
  },
  {
   "cell_type": "code",
   "execution_count": null,
   "id": "7422ddd1",
   "metadata": {},
   "outputs": [],
   "source": [
    "batch.expect_column_values_to_be_in_set(column='DREM', value_set=[1, 2])"
   ]
  },
  {
   "cell_type": "markdown",
   "id": "5bd0b8c6",
   "metadata": {},
   "source": [
    "#### `SEX`"
   ]
  },
  {
   "cell_type": "code",
   "execution_count": null,
   "id": "71b2387a",
   "metadata": {},
   "outputs": [],
   "source": [
    "batch.expect_column_values_to_not_be_null(column='SEX')"
   ]
  },
  {
   "cell_type": "code",
   "execution_count": null,
   "id": "f3060e14",
   "metadata": {},
   "outputs": [],
   "source": [
    "batch.expect_column_values_to_be_in_set(column='SEX', value_set=[1, 2])"
   ]
  },
  {
   "cell_type": "markdown",
   "id": "71b2a56f",
   "metadata": {},
   "source": [
    "#### `RAC1P`"
   ]
  },
  {
   "cell_type": "code",
   "execution_count": null,
   "id": "5db1fbb0",
   "metadata": {},
   "outputs": [],
   "source": [
    "batch.expect_column_values_to_not_be_null(column='RAC1P')"
   ]
  },
  {
   "cell_type": "code",
   "execution_count": null,
   "id": "16c6412d",
   "metadata": {},
   "outputs": [],
   "source": [
    "batch.expect_column_values_to_be_in_set(column='RAC1P', value_set=[1, 2, 3, 4, 5, 6, 7, 8, 9])"
   ]
  },
  {
   "cell_type": "markdown",
   "id": "9f09c3b3",
   "metadata": {},
   "source": [
    "#### `RELP`"
   ]
  },
  {
   "cell_type": "code",
   "execution_count": null,
   "id": "787e80fb",
   "metadata": {},
   "outputs": [],
   "source": [
    "batch.expect_column_values_to_not_be_null(column='RELP')"
   ]
  },
  {
   "cell_type": "code",
   "execution_count": null,
   "id": "fdc78050",
   "metadata": {},
   "outputs": [],
   "source": [
    "batch.expect_column_values_to_be_in_set(column='RELP', value_set=[0, 1, 2, 3, 4, 5, 6, 7, 8, 9, 10, 11, 12, 13, 14, 15, 16, 17])"
   ]
  },
  {
   "cell_type": "markdown",
   "id": "5ef863c2",
   "metadata": {},
   "source": [
    "#### `ESR`"
   ]
  },
  {
   "cell_type": "code",
   "execution_count": null,
   "id": "b9a58593",
   "metadata": {},
   "outputs": [],
   "source": [
    "batch.expect_column_values_to_not_be_null(column='ESR')"
   ]
  },
  {
   "cell_type": "code",
   "execution_count": null,
   "id": "2ca3a0e7",
   "metadata": {},
   "outputs": [],
   "source": [
    "batch.expect_column_values_to_be_in_set(column='ESR', value_set=['True', 'False'])"
   ]
  },
  {
   "cell_type": "markdown",
   "id": "c1815fdb",
   "metadata": {},
   "source": [
    "## Save & Review Your Expectations\n",
    "\n",
    "Let's save the expectation suite as a JSON file in the `great_expectations/expectations` directory of your project.\n",
    "If you decide not to save some expectations that you created, use [remove_expectation method](https://docs.greatexpectations.io/en/latest/module_docs/data_asset_module.html?highlight=remove_expectation&utm_source=notebook&utm_medium=edit_expectations#great_expectations.data_asset.data_asset.DataAsset.remove_expectation).\n",
    "\n",
    "Let's now rebuild your Data Docs, which helps you communicate about your data with both machines and humans."
   ]
  },
  {
   "cell_type": "code",
   "execution_count": null,
   "id": "11b79a24",
   "metadata": {},
   "outputs": [],
   "source": [
    "batch.save_expectation_suite(discard_failed_expectations=False)\n",
    "\n",
    "results = context.run_validation_operator(\"action_list_operator\", assets_to_validate=[batch])\n",
    "validation_result_identifier = results.list_validation_result_identifiers()[0]\n",
    "context.build_data_docs()\n",
    "context.open_data_docs(validation_result_identifier)"
   ]
  }
 ],
 "metadata": {},
 "nbformat": 4,
 "nbformat_minor": 5
}
