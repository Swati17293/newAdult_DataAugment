{
 "cells": [
  {
   "cell_type": "markdown",
   "id": "840c6c39",
   "metadata": {},
   "source": [
    "# Edit Your Expectation Suite\n",
    "Use this notebook to recreate and modify your expectation suite:\n",
    "\n",
    "**Expectation Suite Name**: `suiteFake`\n",
    "\n",
    "We'd love it if you **reach out to us on** the [**Great Expectations Slack Channel**](https://greatexpectations.io/slack)"
   ]
  },
  {
   "cell_type": "code",
   "execution_count": 4,
   "id": "f8d3243b",
   "metadata": {},
   "outputs": [
    {
     "data": {
      "text/html": [
       "<div>\n",
       "<style scoped>\n",
       "    .dataframe tbody tr th:only-of-type {\n",
       "        vertical-align: middle;\n",
       "    }\n",
       "\n",
       "    .dataframe tbody tr th {\n",
       "        vertical-align: top;\n",
       "    }\n",
       "\n",
       "    .dataframe thead th {\n",
       "        text-align: right;\n",
       "    }\n",
       "</style>\n",
       "<table border=\"1\" class=\"dataframe\">\n",
       "  <thead>\n",
       "    <tr style=\"text-align: right;\">\n",
       "      <th></th>\n",
       "      <th>AGEP</th>\n",
       "      <th>SCHL</th>\n",
       "      <th>MAR</th>\n",
       "      <th>DIS</th>\n",
       "      <th>ESP</th>\n",
       "      <th>CIT</th>\n",
       "      <th>MIG</th>\n",
       "      <th>MIL</th>\n",
       "      <th>ANC</th>\n",
       "      <th>NATIVITY</th>\n",
       "      <th>DEAR</th>\n",
       "      <th>DEYE</th>\n",
       "      <th>DREM</th>\n",
       "      <th>SEX</th>\n",
       "      <th>RAC1P</th>\n",
       "      <th>RELP</th>\n",
       "      <th>ESR</th>\n",
       "    </tr>\n",
       "  </thead>\n",
       "  <tbody>\n",
       "    <tr>\n",
       "      <th>0</th>\n",
       "      <td>132</td>\n",
       "      <td>21.0</td>\n",
       "      <td>5.0</td>\n",
       "      <td>2.0</td>\n",
       "      <td>0.0</td>\n",
       "      <td>1.0</td>\n",
       "      <td>1.0</td>\n",
       "      <td>4.0</td>\n",
       "      <td>1.0</td>\n",
       "      <td>1.0</td>\n",
       "      <td>2.0</td>\n",
       "      <td>2.0</td>\n",
       "      <td>2.0</td>\n",
       "      <td>1.0</td>\n",
       "      <td>1.0</td>\n",
       "      <td>17.0</td>\n",
       "      <td>True</td>\n",
       "    </tr>\n",
       "    <tr>\n",
       "      <th>1</th>\n",
       "      <td>100</td>\n",
       "      <td>10.0</td>\n",
       "      <td>5.0</td>\n",
       "      <td>2.0</td>\n",
       "      <td>0.0</td>\n",
       "      <td>1.0</td>\n",
       "      <td>1.0</td>\n",
       "      <td>4.0</td>\n",
       "      <td>2.0</td>\n",
       "      <td>1.0</td>\n",
       "      <td>2.0</td>\n",
       "      <td>2.0</td>\n",
       "      <td>2.0</td>\n",
       "      <td>1.0</td>\n",
       "      <td>1.0</td>\n",
       "      <td>17.0</td>\n",
       "      <td>True</td>\n",
       "    </tr>\n",
       "    <tr>\n",
       "      <th>2</th>\n",
       "      <td>75</td>\n",
       "      <td>21.0</td>\n",
       "      <td>5.0</td>\n",
       "      <td>2.0</td>\n",
       "      <td>0.0</td>\n",
       "      <td>1.0</td>\n",
       "      <td>1.0</td>\n",
       "      <td>4.0</td>\n",
       "      <td>1.0</td>\n",
       "      <td>1.0</td>\n",
       "      <td>2.0</td>\n",
       "      <td>2.0</td>\n",
       "      <td>2.0</td>\n",
       "      <td>1.0</td>\n",
       "      <td>1.0</td>\n",
       "      <td>17.0</td>\n",
       "      <td>True</td>\n",
       "    </tr>\n",
       "    <tr>\n",
       "      <th>3</th>\n",
       "      <td>71</td>\n",
       "      <td>21.0</td>\n",
       "      <td>5.0</td>\n",
       "      <td>2.0</td>\n",
       "      <td>0.0</td>\n",
       "      <td>2.0</td>\n",
       "      <td>1.0</td>\n",
       "      <td>4.0</td>\n",
       "      <td>2.0</td>\n",
       "      <td>1.0</td>\n",
       "      <td>2.0</td>\n",
       "      <td>2.0</td>\n",
       "      <td>2.0</td>\n",
       "      <td>1.0</td>\n",
       "      <td>1.0</td>\n",
       "      <td>17.0</td>\n",
       "      <td>True</td>\n",
       "    </tr>\n",
       "    <tr>\n",
       "      <th>4</th>\n",
       "      <td>76</td>\n",
       "      <td>10.0</td>\n",
       "      <td>5.0</td>\n",
       "      <td>2.0</td>\n",
       "      <td>0.0</td>\n",
       "      <td>1.0</td>\n",
       "      <td>1.0</td>\n",
       "      <td>4.0</td>\n",
       "      <td>1.0</td>\n",
       "      <td>1.0</td>\n",
       "      <td>2.0</td>\n",
       "      <td>2.0</td>\n",
       "      <td>2.0</td>\n",
       "      <td>1.0</td>\n",
       "      <td>1.0</td>\n",
       "      <td>17.0</td>\n",
       "      <td>True</td>\n",
       "    </tr>\n",
       "  </tbody>\n",
       "</table>\n",
       "</div>"
      ],
      "text/plain": [
       "   AGEP  SCHL  MAR  DIS  ESP  CIT  MIG  MIL  ANC  NATIVITY  DEAR  DEYE  DREM  \\\n",
       "0   132  21.0  5.0  2.0  0.0  1.0  1.0  4.0  1.0       1.0   2.0   2.0   2.0   \n",
       "1   100  10.0  5.0  2.0  0.0  1.0  1.0  4.0  2.0       1.0   2.0   2.0   2.0   \n",
       "2    75  21.0  5.0  2.0  0.0  1.0  1.0  4.0  1.0       1.0   2.0   2.0   2.0   \n",
       "3    71  21.0  5.0  2.0  0.0  2.0  1.0  4.0  2.0       1.0   2.0   2.0   2.0   \n",
       "4    76  10.0  5.0  2.0  0.0  1.0  1.0  4.0  1.0       1.0   2.0   2.0   2.0   \n",
       "\n",
       "   SEX  RAC1P  RELP   ESR  \n",
       "0  1.0    1.0  17.0  True  \n",
       "1  1.0    1.0  17.0  True  \n",
       "2  1.0    1.0  17.0  True  \n",
       "3  1.0    1.0  17.0  True  \n",
       "4  1.0    1.0  17.0  True  "
      ]
     },
     "execution_count": 4,
     "metadata": {},
     "output_type": "execute_result"
    }
   ],
   "source": [
    "import datetime\n",
    "import great_expectations as ge\n",
    "import great_expectations.jupyter_ux\n",
    "from great_expectations.data_context.types.resource_identifiers import ValidationResultIdentifier\n",
    "\n",
    "context = ge.data_context.DataContext()\n",
    "\n",
    "# Feel free to change the name of your suite here. Renaming this will not\n",
    "# remove the other one.\n",
    "expectation_suite_name = \"suiteFake\"\n",
    "suite = context.get_expectation_suite(expectation_suite_name)\n",
    "suite.expectations = []\n",
    "\n",
    "batch_kwargs = {'data_asset_name': 'employment_ny_dragan_synth', 'datasource': 'csvTask__dir', 'path': '/home/swati/postdoc/great_expectations/../csvTask/employment_ny_dragan_synth.csv'}\n",
    "batch = context.get_batch(batch_kwargs, suite)\n",
    "batch.head()"
   ]
  },
  {
   "cell_type": "markdown",
   "id": "a6a4ec2d",
   "metadata": {},
   "source": [
    "## Create & Edit Expectations\n",
    "\n",
    "Add expectations by calling specific expectation methods on the `batch` object. They all begin with `.expect_` which makes autocompleting easy using tab.\n",
    "\n",
    "You can see all the available expectations in the **[expectation glossary](https://docs.greatexpectations.io/en/latest/reference/glossary_of_expectations.html?utm_source=notebook&utm_medium=create_expectations)**."
   ]
  },
  {
   "cell_type": "markdown",
   "id": "dd9c031b",
   "metadata": {},
   "source": [
    "### Table Expectation(s)"
   ]
  },
  {
   "cell_type": "code",
   "execution_count": 5,
   "id": "426a704d",
   "metadata": {},
   "outputs": [
    {
     "data": {
      "text/plain": [
       "{\n",
       "  \"meta\": {},\n",
       "  \"success\": true,\n",
       "  \"result\": {\n",
       "    \"observed_value\": [\n",
       "      \"AGEP\",\n",
       "      \"SCHL\",\n",
       "      \"MAR\",\n",
       "      \"DIS\",\n",
       "      \"ESP\",\n",
       "      \"CIT\",\n",
       "      \"MIG\",\n",
       "      \"MIL\",\n",
       "      \"ANC\",\n",
       "      \"NATIVITY\",\n",
       "      \"DEAR\",\n",
       "      \"DEYE\",\n",
       "      \"DREM\",\n",
       "      \"SEX\",\n",
       "      \"RAC1P\",\n",
       "      \"RELP\",\n",
       "      \"ESR\"\n",
       "    ]\n",
       "  },\n",
       "  \"exception_info\": {\n",
       "    \"raised_exception\": false,\n",
       "    \"exception_traceback\": null,\n",
       "    \"exception_message\": null\n",
       "  }\n",
       "}"
      ]
     },
     "execution_count": 5,
     "metadata": {},
     "output_type": "execute_result"
    }
   ],
   "source": [
    "# batch.expect_table_row_count_to_be_between(max_value=113323, min_value=92718)\n",
    "\n",
    "batch.expect_table_column_count_to_equal(value=17)\n",
    "\n",
    "batch.expect_table_columns_to_match_ordered_list(column_list=['AGEP', 'SCHL', 'MAR', 'DIS', 'ESP', 'CIT', 'MIG', 'MIL', 'ANC', 'NATIVITY', 'DEAR', 'DEYE', 'DREM', 'SEX', 'RAC1P', 'RELP', 'ESR'])"
   ]
  },
  {
   "cell_type": "markdown",
   "id": "f0a7c226",
   "metadata": {},
   "source": [
    "### Column Expectation(s)"
   ]
  },
  {
   "cell_type": "code",
   "execution_count": 6,
   "id": "3ba44f64",
   "metadata": {},
   "outputs": [],
   "source": [
    "# Expect Columns to be not Null\n",
    "\n",
    "column_list=['AGEP', 'SCHL', 'MAR', 'DIS', 'ESP', 'CIT', 'MIG', 'MIL', 'ANC', 'NATIVITY', 'DEAR', 'DEYE', 'DREM', 'SEX', 'RAC1P', 'RELP', 'ESR']\n",
    "for col in column_list: \n",
    "    batch.expect_column_values_to_not_be_null(column=col)"
   ]
  },
  {
   "cell_type": "code",
   "execution_count": 7,
   "id": "96868ea7",
   "metadata": {},
   "outputs": [
    {
     "data": {
      "text/plain": [
       "{\n",
       "  \"meta\": {},\n",
       "  \"success\": true,\n",
       "  \"result\": {\n",
       "    \"observed_value\": 13,\n",
       "    \"element_count\": 103424,\n",
       "    \"missing_count\": null,\n",
       "    \"missing_percent\": null\n",
       "  },\n",
       "  \"exception_info\": {\n",
       "    \"raised_exception\": false,\n",
       "    \"exception_traceback\": null,\n",
       "    \"exception_message\": null\n",
       "  }\n",
       "}"
      ]
     },
     "execution_count": 7,
     "metadata": {},
     "output_type": "execute_result"
    }
   ],
   "source": [
    "# Set min and Maximum value\n",
    "\n",
    "batch.expect_column_max_to_be_between('AGEP',0,95)\n",
    "\n",
    "batch.expect_column_min_to_be_between('AGEP',0,95)"
   ]
  },
  {
   "cell_type": "code",
   "execution_count": 8,
   "id": "298e106b",
   "metadata": {},
   "outputs": [
    {
     "data": {
      "text/plain": [
       "{\n",
       "  \"meta\": {},\n",
       "  \"success\": false,\n",
       "  \"result\": {\n",
       "    \"element_count\": 103424,\n",
       "    \"missing_count\": 0,\n",
       "    \"missing_percent\": 0.0,\n",
       "    \"unexpected_count\": 103424,\n",
       "    \"unexpected_percent\": 100.0,\n",
       "    \"unexpected_percent_nonmissing\": 100.0,\n",
       "    \"partial_unexpected_list\": [\n",
       "      true,\n",
       "      true,\n",
       "      true,\n",
       "      true,\n",
       "      true,\n",
       "      true,\n",
       "      true,\n",
       "      true,\n",
       "      true,\n",
       "      true,\n",
       "      true,\n",
       "      true,\n",
       "      true,\n",
       "      true,\n",
       "      true,\n",
       "      true,\n",
       "      true,\n",
       "      true,\n",
       "      true,\n",
       "      true\n",
       "    ]\n",
       "  },\n",
       "  \"exception_info\": {\n",
       "    \"raised_exception\": false,\n",
       "    \"exception_traceback\": null,\n",
       "    \"exception_message\": null\n",
       "  }\n",
       "}"
      ]
     },
     "execution_count": 8,
     "metadata": {},
     "output_type": "execute_result"
    }
   ],
   "source": [
    "# Expect the set of distinct column values to be contained by a given set.\n",
    "\n",
    "batch.expect_column_values_to_be_in_set('SCHL',list(range(1, 25)))\n",
    "batch.expect_column_values_to_be_in_set('MAR',list(range(1, 6)))\n",
    "batch.expect_column_values_to_be_in_set('DIS',[1,2])\n",
    "batch.expect_column_values_to_be_in_set('ESP',list(range(1, 9)))\n",
    "batch.expect_column_values_to_be_in_set('CIT',list(range(1, 6)))\n",
    "batch.expect_column_values_to_be_in_set('MIG',list(range(1, 4)))\n",
    "batch.expect_column_values_to_be_in_set('MIL',list(range(1, 5)))\n",
    "batch.expect_column_values_to_be_in_set('ANC',[1,2,3,4,8])\n",
    "batch.expect_column_values_to_be_in_set('NATIVITY',[1,2])\n",
    "batch.expect_column_values_to_be_in_set('DEAR',[1,2])\n",
    "batch.expect_column_values_to_be_in_set('DEYE',[1,2])\n",
    "batch.expect_column_values_to_be_in_set('DREM',[1,2])\n",
    "batch.expect_column_values_to_be_in_set('SEX',[1,2])\n",
    "batch.expect_column_values_to_be_in_set('RAC1P',list(range(1, 10)))\n",
    "batch.expect_column_values_to_be_in_set('RELP',list(range(0, 18)))\n",
    "batch.expect_column_values_to_be_in_set('ESR',['True','False'])"
   ]
  },
  {
   "cell_type": "markdown",
   "id": "1a6a196c",
   "metadata": {},
   "source": [
    "## Save & Review Your Expectations\n",
    "\n",
    "Let's save the expectation suite as a JSON file in the `great_expectations/expectations` directory of your project.\n",
    "If you decide not to save some expectations that you created, use [remove_expectation method](https://docs.greatexpectations.io/en/latest/module_docs/data_asset_module.html?highlight=remove_expectation&utm_source=notebook&utm_medium=edit_expectations#great_expectations.data_asset.data_asset.DataAsset.remove_expectation).\n",
    "\n",
    "Let's now rebuild your Data Docs, which helps you communicate about your data with both machines and humans."
   ]
  },
  {
   "cell_type": "code",
   "execution_count": 9,
   "id": "25653e11",
   "metadata": {},
   "outputs": [
    {
     "name": "stdout",
     "output_type": "stream",
     "text": [
      "2022-12-10T12:29:13+0000 - INFO - \t37 expectation(s) included in expectation_suite. result_format settings filtered.\n",
      "2022-12-10T12:29:13+0000 - INFO - Setting run_name to: 20221210T122913.392977Z\n",
      "2022-12-10T12:29:13+0000 - INFO - \t37 expectation(s) included in expectation_suite.\n"
     ]
    }
   ],
   "source": [
    "batch.save_expectation_suite(discard_failed_expectations=False)\n",
    "\n",
    "results = context.run_validation_operator(\"action_list_operator\", assets_to_validate=[batch])\n",
    "validation_result_identifier = results.list_validation_result_identifiers()[0]\n",
    "context.build_data_docs()\n",
    "context.open_data_docs(validation_result_identifier)"
   ]
  },
  {
   "cell_type": "code",
   "execution_count": null,
   "id": "7bbc4891",
   "metadata": {},
   "outputs": [],
   "source": []
  }
 ],
 "metadata": {
  "kernelspec": {
   "display_name": "Python 3 (ipykernel)",
   "language": "python",
   "name": "python3"
  },
  "language_info": {
   "codemirror_mode": {
    "name": "ipython",
    "version": 3
   },
   "file_extension": ".py",
   "mimetype": "text/x-python",
   "name": "python",
   "nbconvert_exporter": "python",
   "pygments_lexer": "ipython3",
   "version": "3.8.10"
  }
 },
 "nbformat": 4,
 "nbformat_minor": 5
}
