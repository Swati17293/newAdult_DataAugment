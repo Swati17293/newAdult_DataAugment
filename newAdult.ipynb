{
 "cells": [
  {
   "cell_type": "code",
   "execution_count": 1,
   "metadata": {},
   "outputs": [],
   "source": [
    "import sys\n",
    "\n",
    "# !{sys.executable} -m pip install folktables\n",
    "# !{sys.executable} -m pip install great-expectations\n",
    "# !{sys.executable} -m pip install absl-py\n",
    "# !{sys.executable} -m pip install tensorflow==2.8.0\n",
    "# !{sys.executable} -m pip install tensorflow-text==2.8.1\n",
    "# !{sys.executable} -m pip install requests==2.23.0\n",
    "# !{sys.executable} -m pip install pandas-profiling==3.5.0\n",
    "# !{sys.executable} -m pip install jinja2==3.0.0\n",
    "# !{sys.executable} -m pip install matplotlib==3.4.0\n",
    "# !{sys.executable} -m pip install pandas==1.1.0\n",
    "# !{sys.executable} -m pip install scikit-learn\n",
    "# !{sys.executable} -m pip install ydata-synthetic\n",
    "# !{sys.executable} -m pip install dataprofiler\n",
    "# !{sys.executable} -m pip install ipympl\n",
    "# !{sys.executable} -m pip install numpy==1.17\n",
    "# !{sys.executable} -m pip install typing_extensions"
   ]
  },
  {
   "cell_type": "code",
   "execution_count": 2,
   "metadata": {},
   "outputs": [],
   "source": [
    "import json\n",
    "import pprint\n",
    "import numpy as np\n",
    "import pandas as pd\n",
    "\n",
    "import matplotlib\n",
    "import matplotlib.pyplot as plt\n",
    "%matplotlib inline\n",
    "\n",
    "import folktables\n",
    "from folktables import ACSDataSource\n",
    "\n",
    "import dataprofiler as dp\n",
    "from pandas_profiling import ProfileReport\n",
    "from dataprofiler import Profiler, graphs\n",
    "\n",
    "from ydata_synthetic.synthesizers.regular import RegularSynthesizer\n",
    "from ydata_synthetic.synthesizers import ModelParameters, TrainParameters"
   ]
  },
  {
   "cell_type": "code",
   "execution_count": 3,
   "metadata": {},
   "outputs": [],
   "source": [
    "features=['AGEP','SCHL','MAR','DIS','ESP','CIT','MIG','MIL','ANC', 'NATIVITY','DEAR','DEYE','DREM','SEX','RAC1P','PUMA','ST','OCCP','JWTR','POWPUMA','COW','POBP','RELP','WKHP','PINCP','ESR','FER']\n",
    "\n",
    "featEmployment = [x for x in features if x not in ['FER','ESR','PINCP','WKHP','POBP','COW','PUMA','ST','OCCP','JWTR','POWPUMA']]\n",
    "featIncome = [x for x in features if x not in ['FER','ESR','PINCP','DIS','ESP','CIT','MIG', 'MIL','ANC','NATIVITY','DEAR','DEYE','DREM','PUMA','ST','JWTR','POWPUMA']]\n",
    "featHealthInsurance = [x for x in features if x not in ['WKHP','RELP','POBP','COW','PUMA','OCCP','JWTR','POWPUMA']]\n",
    "featTravelTime = [x for x in features if x not in ['FER','RELP','POBP','MIL','ANC','NATIVITY','DEAR','DEYE','DREM']]"
   ]
  },
  {
   "cell_type": "code",
   "execution_count": 4,
   "metadata": {},
   "outputs": [],
   "source": [
    "data_source = ACSDataSource(survey_year='2018', horizon='1-Year', survey='person')\n",
    "\n",
    "acs_data_ut = data_source.get_data(states=[\"UT\"], download=True)\n",
    "acs_data_wy = data_source.get_data(states=[\"WY\"], download=True)\n",
    "\n",
    "acs_data_az = data_source.get_data(states=[\"AZ\"], download=True)\n",
    "acs_data_ca = data_source.get_data(states=[\"CA\"], download=True)\n",
    "\n",
    "acs_data_ny = data_source.get_data(states=[\"NY\"], download=True)\n",
    "\n",
    "#states = ['UT', 'WY', 'AZ', 'CA', 'NY'...]"
   ]
  },
  {
   "cell_type": "code",
   "execution_count": 5,
   "metadata": {},
   "outputs": [],
   "source": [
    "def get_variable_name(variable):\n",
    "    globals_dict = globals()\n",
    "\n",
    "    return [var_name for var_name in globals_dict if globals_dict[var_name] is variable]"
   ]
  },
  {
   "cell_type": "code",
   "execution_count": 6,
   "metadata": {},
   "outputs": [],
   "source": [
    "def create_csv(task,acs_data):\n",
    "\n",
    "    get_variable_name(task)[0]\n",
    "    \n",
    "    _feat, _label, _group = task.df_to_pandas(acs_data)\n",
    "    _dataset = pd.concat([_feat, _label], axis=1)\n",
    "\n",
    "    _dataset.to_csv(f'csvTask/{get_variable_name(task)[0]}_{get_variable_name(acs_data)[0]}.csv', index=False)"
   ]
  },
  {
   "cell_type": "code",
   "execution_count": 7,
   "metadata": {},
   "outputs": [],
   "source": [
    "Employment = folktables.BasicProblem(\n",
    "    features=featEmployment,\n",
    "    target='ESR',\n",
    "    target_transform=lambda x: x == 1,\n",
    "    group='SEX',\n",
    "    preprocess=folktables.acs.adult_filter,\n",
    "    postprocess=lambda x: np.nan_to_num(x, -1),\n",
    ")"
   ]
  },
  {
   "cell_type": "code",
   "execution_count": 8,
   "metadata": {},
   "outputs": [],
   "source": [
    "Income = folktables.BasicProblem(\n",
    "    features=featIncome,\n",
    "    target='PINCP',\n",
    "    target_transform=lambda x: x > 50000,\n",
    "    group='SEX',\n",
    "    preprocess=folktables.acs.adult_filter,\n",
    "    postprocess=lambda x: np.nan_to_num(x, -1),\n",
    ")"
   ]
  },
  {
   "cell_type": "code",
   "execution_count": 9,
   "metadata": {},
   "outputs": [],
   "source": [
    "HealthInsurance = folktables.BasicProblem(\n",
    "    features=featHealthInsurance,\n",
    "    target='HINS2',\n",
    "    target_transform=lambda x: x == 1,\n",
    "    group='SEX',\n",
    "    preprocess=folktables.acs.adult_filter,\n",
    "    postprocess=lambda x: np.nan_to_num(x, -1),\n",
    ")"
   ]
  },
  {
   "cell_type": "code",
   "execution_count": 10,
   "metadata": {},
   "outputs": [],
   "source": [
    "TravelTime = folktables.BasicProblem(\n",
    "    features=featTravelTime,\n",
    "    target=\"JWMNP\",\n",
    "    target_transform=lambda x: x > 20,\n",
    "    group='SEX',\n",
    "    preprocess=folktables.acs.adult_filter,\n",
    "    postprocess=lambda x: np.nan_to_num(x, -1),\n",
    ")"
   ]
  },
  {
   "cell_type": "code",
   "execution_count": 11,
   "metadata": {},
   "outputs": [],
   "source": [
    "acs_data_list = [acs_data_ut,acs_data_wy,acs_data_az,acs_data_ca,acs_data_ny]\n",
    "task_list = [Employment,Income,HealthInsurance,TravelTime]\n",
    "\n",
    "for task in task_list:\n",
    "    for acs_data in acs_data_list:\n",
    "        create_csv(task, acs_data)"
   ]
  },
  {
   "cell_type": "markdown",
   "metadata": {},
   "source": [
    "Exploratory Data Analysis (EDA): to discover important patterns, anomalies, business assumptions validations and so on."
   ]
  },
  {
   "cell_type": "code",
   "execution_count": 12,
   "metadata": {},
   "outputs": [],
   "source": [
    "dataset_name = \"employment_ny\"\n",
    "data_ = pd.read_csv('csvTask/Employment_acs_data_ny.csv')\n",
    "\n",
    "features_cat=['FER','ESR','COW','POWPUMA','JWTR','RELP','SCHL','MAR','DIS','ESP','CIT','MIG','MIL','ANC', 'NATIVITY','DEAR','DEYE','DREM','SEX','RAC1P','PUMA','ST','OCCP','POBP']\n",
    "features_num=['PINCP','AGEP','WKHP']\n",
    "\n",
    "for col in data_.columns:\n",
    "    if col in features_num:\n",
    "        data_[col] = data_[col].astype('int64')\n",
    "    else:\n",
    "        data_[col] = data_[col].astype('str')"
   ]
  },
  {
   "cell_type": "code",
   "execution_count": 13,
   "metadata": {},
   "outputs": [
    {
     "name": "stderr",
     "output_type": "stream",
     "text": [
      "2022-12-12 12:18:28.106707: E tensorflow/stream_executor/cuda/cuda_driver.cc:271] failed call to cuInit: CUDA_ERROR_NO_DEVICE: no CUDA-capable device is detected\n",
      "2022-12-12 12:18:28.106826: I tensorflow/stream_executor/cuda/cuda_diagnostics.cc:156] kernel driver does not appear to be running on this host (swatigpu): /proc/driver/nvidia/version does not exist\n",
      "2022-12-12 12:18:28.108166: I tensorflow/core/platform/cpu_feature_guard.cc:151] This TensorFlow binary is optimized with oneAPI Deep Neural Network Library (oneDNN) to use the following CPU instructions in performance-critical operations:  AVX2 AVX512F FMA\n",
      "To enable them in other operations, rebuild TensorFlow with the appropriate compiler flags.\n"
     ]
    },
    {
     "name": "stdout",
     "output_type": "stream",
     "text": [
      "INFO:DataProfiler.profilers.profile_builder: Finding the Null values in the columns...  (with 3 processes)\n"
     ]
    },
    {
     "name": "stderr",
     "output_type": "stream",
     "text": [
      "/home/swati/anaconda3/envs/newAdult/lib/python3.8/site-packages/dataprofiler/profilers/profile_builder.py:2543: UserWarning: The data will be profiled with a sample size of 20604. All statistics will be based on this subsample and not the whole dataset.\n",
      "  warnings.warn(\n",
      "  0%|          | 0/17 [00:00<?, ?it/s]/home/swati/anaconda3/envs/newAdult/lib/python3.8/site-packages/dataprofiler/profilers/profile_builder.py:610: FutureWarning: Passing a set as an indexer is deprecated and will raise in a future version. Use a list instead.\n",
      "  df_series = df_series.loc[true_sample_list]\n",
      "/home/swati/anaconda3/envs/newAdult/lib/python3.8/site-packages/dataprofiler/profilers/profile_builder.py:610: FutureWarning: Passing a set as an indexer is deprecated and will raise in a future version. Use a list instead.\n",
      "  df_series = df_series.loc[true_sample_list]\n",
      "  6%|▌         | 1/17 [00:00<00:02,  7.13it/s]/home/swati/anaconda3/envs/newAdult/lib/python3.8/site-packages/dataprofiler/profilers/profile_builder.py:610: FutureWarning: Passing a set as an indexer is deprecated and will raise in a future version. Use a list instead.\n",
      "  df_series = df_series.loc[true_sample_list]\n",
      "/home/swati/anaconda3/envs/newAdult/lib/python3.8/site-packages/dataprofiler/profilers/profile_builder.py:610: FutureWarning: Passing a set as an indexer is deprecated and will raise in a future version. Use a list instead.\n",
      "  df_series = df_series.loc[true_sample_list]\n",
      "/home/swati/anaconda3/envs/newAdult/lib/python3.8/site-packages/dataprofiler/profilers/profile_builder.py:610: FutureWarning: Passing a set as an indexer is deprecated and will raise in a future version. Use a list instead.\n",
      "  df_series = df_series.loc[true_sample_list]\n",
      "/home/swati/anaconda3/envs/newAdult/lib/python3.8/site-packages/dataprofiler/profilers/profile_builder.py:610: FutureWarning: Passing a set as an indexer is deprecated and will raise in a future version. Use a list instead.\n",
      "  df_series = df_series.loc[true_sample_list]\n",
      " 35%|███▌      | 6/17 [00:00<00:00, 26.44it/s]/home/swati/anaconda3/envs/newAdult/lib/python3.8/site-packages/dataprofiler/profilers/profile_builder.py:610: FutureWarning: Passing a set as an indexer is deprecated and will raise in a future version. Use a list instead.\n",
      "  df_series = df_series.loc[true_sample_list]\n",
      "/home/swati/anaconda3/envs/newAdult/lib/python3.8/site-packages/dataprofiler/profilers/profile_builder.py:610: FutureWarning: Passing a set as an indexer is deprecated and will raise in a future version. Use a list instead.\n",
      "  df_series = df_series.loc[true_sample_list]\n",
      "/home/swati/anaconda3/envs/newAdult/lib/python3.8/site-packages/dataprofiler/profilers/profile_builder.py:610: FutureWarning: Passing a set as an indexer is deprecated and will raise in a future version. Use a list instead.\n",
      "  df_series = df_series.loc[true_sample_list]\n",
      "/home/swati/anaconda3/envs/newAdult/lib/python3.8/site-packages/dataprofiler/profilers/profile_builder.py:610: FutureWarning: Passing a set as an indexer is deprecated and will raise in a future version. Use a list instead.\n",
      "  df_series = df_series.loc[true_sample_list]\n",
      " 59%|█████▉    | 10/17 [00:00<00:00, 29.79it/s]/home/swati/anaconda3/envs/newAdult/lib/python3.8/site-packages/dataprofiler/profilers/profile_builder.py:610: FutureWarning: Passing a set as an indexer is deprecated and will raise in a future version. Use a list instead.\n",
      "  df_series = df_series.loc[true_sample_list]\n",
      "/home/swati/anaconda3/envs/newAdult/lib/python3.8/site-packages/dataprofiler/profilers/profile_builder.py:610: FutureWarning: Passing a set as an indexer is deprecated and will raise in a future version. Use a list instead.\n",
      "  df_series = df_series.loc[true_sample_list]\n",
      "/home/swati/anaconda3/envs/newAdult/lib/python3.8/site-packages/dataprofiler/profilers/profile_builder.py:610: FutureWarning: Passing a set as an indexer is deprecated and will raise in a future version. Use a list instead.\n",
      "  df_series = df_series.loc[true_sample_list]\n",
      "/home/swati/anaconda3/envs/newAdult/lib/python3.8/site-packages/dataprofiler/profilers/profile_builder.py:610: FutureWarning: Passing a set as an indexer is deprecated and will raise in a future version. Use a list instead.\n",
      "  df_series = df_series.loc[true_sample_list]\n",
      "/home/swati/anaconda3/envs/newAdult/lib/python3.8/site-packages/dataprofiler/profilers/profile_builder.py:610: FutureWarning: Passing a set as an indexer is deprecated and will raise in a future version. Use a list instead.\n",
      "  df_series = df_series.loc[true_sample_list]\n",
      "/home/swati/anaconda3/envs/newAdult/lib/python3.8/site-packages/dataprofiler/profilers/profile_builder.py:610: FutureWarning: Passing a set as an indexer is deprecated and will raise in a future version. Use a list instead.\n",
      "  df_series = df_series.loc[true_sample_list]\n",
      "/home/swati/anaconda3/envs/newAdult/lib/python3.8/site-packages/dataprofiler/profilers/profile_builder.py:610: FutureWarning: Passing a set as an indexer is deprecated and will raise in a future version. Use a list instead.\n",
      "  df_series = df_series.loc[true_sample_list]\n",
      "100%|██████████| 17/17 [00:00<00:00, 32.29it/s]\n"
     ]
    },
    {
     "name": "stdout",
     "output_type": "stream",
     "text": [
      "INFO:DataProfiler.profilers.profile_builder: Calculating the statistics...  (with 4 processes)\n"
     ]
    },
    {
     "name": "stderr",
     "output_type": "stream",
     "text": [
      "100%|██████████| 17/17 [00:03<00:00,  5.25it/s]\n"
     ]
    }
   ],
   "source": [
    "# #Generating the standard profiling report\n",
    "title = f\"EDA: {dataset_name}\"\n",
    "profile = ProfileReport(data_, title=title, infer_dtypes=False)\n",
    "\n",
    "profile_real = Profiler(data_)"
   ]
  },
  {
   "cell_type": "code",
   "execution_count": 14,
   "metadata": {},
   "outputs": [
    {
     "data": {
      "application/json": {
       "ascii": false,
       "bar_format": null,
       "colour": null,
       "elapsed": 0.015998363494873047,
       "initial": 0,
       "n": 0,
       "ncols": null,
       "nrows": null,
       "postfix": null,
       "prefix": "Summarize dataset",
       "rate": null,
       "total": 5,
       "unit": "it",
       "unit_divisor": 1000,
       "unit_scale": false
      },
      "application/vnd.jupyter.widget-view+json": {
       "model_id": "2d9ad386b092478e92910d04d4dc73ab",
       "version_major": 2,
       "version_minor": 0
      },
      "text/plain": [
       "Summarize dataset:   0%|          | 0/5 [00:00<?, ?it/s]"
      ]
     },
     "metadata": {},
     "output_type": "display_data"
    },
    {
     "name": "stderr",
     "output_type": "stream",
     "text": [
      "/home/swati/anaconda3/envs/newAdult/lib/python3.8/site-packages/pandas_profiling/model/pandas/correlations_pandas.py:29: FutureWarning: The default value of numeric_only in DataFrame.corr is deprecated. In a future version, it will default to False. Select only valid columns or specify the value of numeric_only to silence this warning.\n",
      "  return df.corr(method=\"spearman\")\n",
      "/home/swati/anaconda3/envs/newAdult/lib/python3.8/site-packages/pandas_profiling/model/pandas/correlations_pandas.py:36: FutureWarning: The default value of numeric_only in DataFrame.corr is deprecated. In a future version, it will default to False. Select only valid columns or specify the value of numeric_only to silence this warning.\n",
      "  return df.corr(method=\"pearson\")\n",
      "/home/swati/anaconda3/envs/newAdult/lib/python3.8/site-packages/pandas_profiling/model/pandas/correlations_pandas.py:43: FutureWarning: The default value of numeric_only in DataFrame.corr is deprecated. In a future version, it will default to False. Select only valid columns or specify the value of numeric_only to silence this warning.\n",
      "  return df.corr(method=\"kendall\")\n"
     ]
    },
    {
     "data": {
      "application/json": {
       "ascii": false,
       "bar_format": null,
       "colour": null,
       "elapsed": 0.013468503952026367,
       "initial": 0,
       "n": 0,
       "ncols": null,
       "nrows": null,
       "postfix": null,
       "prefix": "Generate report structure",
       "rate": null,
       "total": 1,
       "unit": "it",
       "unit_divisor": 1000,
       "unit_scale": false
      },
      "application/vnd.jupyter.widget-view+json": {
       "model_id": "54f37aebb85a4209a29bc0a1cb854c73",
       "version_major": 2,
       "version_minor": 0
      },
      "text/plain": [
       "Generate report structure:   0%|          | 0/1 [00:00<?, ?it/s]"
      ]
     },
     "metadata": {},
     "output_type": "display_data"
    },
    {
     "data": {
      "application/json": {
       "ascii": false,
       "bar_format": null,
       "colour": null,
       "elapsed": 0.013169527053833008,
       "initial": 0,
       "n": 0,
       "ncols": null,
       "nrows": null,
       "postfix": null,
       "prefix": "Render HTML",
       "rate": null,
       "total": 1,
       "unit": "it",
       "unit_divisor": 1000,
       "unit_scale": false
      },
      "application/vnd.jupyter.widget-view+json": {
       "model_id": "0d120131d215450fadd58b9dc801b7d2",
       "version_major": 2,
       "version_minor": 0
      },
      "text/plain": [
       "Render HTML:   0%|          | 0/1 [00:00<?, ?it/s]"
      ]
     },
     "metadata": {},
     "output_type": "display_data"
    },
    {
     "data": {
      "application/json": {
       "ascii": false,
       "bar_format": null,
       "colour": null,
       "elapsed": 0.013205289840698242,
       "initial": 0,
       "n": 0,
       "ncols": null,
       "nrows": null,
       "postfix": null,
       "prefix": "Export report to file",
       "rate": null,
       "total": 1,
       "unit": "it",
       "unit_divisor": 1000,
       "unit_scale": false
      },
      "application/vnd.jupyter.widget-view+json": {
       "model_id": "af0d62eb1f1e4fd08f4b4879fa3e6146",
       "version_major": 2,
       "version_minor": 0
      },
      "text/plain": [
       "Export report to file:   0%|          | 0/1 [00:00<?, ?it/s]"
      ]
     },
     "metadata": {},
     "output_type": "display_data"
    }
   ],
   "source": [
    "# #Exploring as HTML outside Jupyter Notebook\n",
    "profile.to_file(f'profileTaskHtml/{dataset_name}_profile.html')\n",
    "\n",
    "# #Exploring as HTML inside Jupyter Notebook\n",
    "# profile.to_notebook_iframe()"
   ]
  },
  {
   "cell_type": "code",
   "execution_count": 15,
   "metadata": {},
   "outputs": [
    {
     "data": {
      "application/json": {
       "ascii": false,
       "bar_format": null,
       "colour": null,
       "elapsed": 0.01535940170288086,
       "initial": 0,
       "n": 0,
       "ncols": null,
       "nrows": null,
       "postfix": null,
       "prefix": "Render JSON",
       "rate": null,
       "total": 1,
       "unit": "it",
       "unit_divisor": 1000,
       "unit_scale": false
      },
      "application/vnd.jupyter.widget-view+json": {
       "model_id": "37d822cf3c324726bb408fc6208242a8",
       "version_major": 2,
       "version_minor": 0
      },
      "text/plain": [
       "Render JSON:   0%|          | 0/1 [00:00<?, ?it/s]"
      ]
     },
     "metadata": {},
     "output_type": "display_data"
    },
    {
     "data": {
      "application/json": {
       "ascii": false,
       "bar_format": null,
       "colour": null,
       "elapsed": 0.013108253479003906,
       "initial": 0,
       "n": 0,
       "ncols": null,
       "nrows": null,
       "postfix": null,
       "prefix": "Export report to file",
       "rate": null,
       "total": 1,
       "unit": "it",
       "unit_divisor": 1000,
       "unit_scale": false
      },
      "application/vnd.jupyter.widget-view+json": {
       "model_id": "733bc9497f3949c1b0df116664d16664",
       "version_major": 2,
       "version_minor": 0
      },
      "text/plain": [
       "Export report to file:   0%|          | 0/1 [00:00<?, ?it/s]"
      ]
     },
     "metadata": {},
     "output_type": "display_data"
    }
   ],
   "source": [
    "# #Exploring as json profile\n",
    "profile.to_file(f'profileTaskJson/{dataset_name}_profile.json')"
   ]
  },
  {
   "cell_type": "code",
   "execution_count": 16,
   "metadata": {},
   "outputs": [
    {
     "name": "stdout",
     "output_type": "stream",
     "text": [
      "Number of categorical: 16, Number of numerical: 1\n"
     ]
    }
   ],
   "source": [
    "file_ = open(f'profileTaskJson/{dataset_name}_profile.json','r')\n",
    "\n",
    "json_profile = json.load(file_)\n",
    "\n",
    "num_cols = [col for col, val in json_profile['variables'].items() if val['type']=='Numeric']\n",
    "cat_cols = [col for col, val in json_profile['variables'].items() if val['type']=='Categorical']\n",
    "\n",
    "print(f'Number of categorical: {len(cat_cols)}, Number of numerical: {len(num_cols)}')"
   ]
  },
  {
   "cell_type": "markdown",
   "metadata": {},
   "source": [
    "The synthetic data generation"
   ]
  },
  {
   "cell_type": "code",
   "execution_count": 17,
   "metadata": {},
   "outputs": [],
   "source": [
    "#Defining the training parameters of Models\n",
    "\n",
    "## Setting the architecture hyperparameters\n",
    "noise_dim = 128\n",
    "dim = 128\n",
    "batch_size = 128\n",
    "\n",
    "#Defined as per the literature on WGAN\n",
    "beta_1 = 0.5\n",
    "beta_2 = 0.9\n",
    "\n",
    "# 1e-5 dragan\n",
    "learning_rate = 1e-5\n",
    "\n",
    "log_step = 100\n",
    "epochs = 11\n",
    "\n",
    "models_dir = 'cache'"
   ]
  },
  {
   "cell_type": "code",
   "execution_count": 18,
   "metadata": {},
   "outputs": [],
   "source": [
    "gan_args = ModelParameters(batch_size=batch_size,\n",
    "                           lr=learning_rate,\n",
    "                           betas=(beta_1, beta_2),\n",
    "                           noise_dim=noise_dim,\n",
    "                           layers_dim=dim)\n",
    "\n",
    "train_args = TrainParameters(epochs=epochs,\n",
    "                             sample_interval=log_step)"
   ]
  },
  {
   "cell_type": "code",
   "execution_count": 19,
   "metadata": {},
   "outputs": [],
   "source": [
    "#Init the synthesizer model\n",
    "# dragan (n_discriminator=3)\n",
    "# wgan (n_critic=10)\n",
    "# wgangp n_critic=2\n",
    "\n",
    "model_name = 'wgangp'\n",
    "\n",
    "synth = RegularSynthesizer(modelname=model_name, model_parameters=gan_args, n_critic=2)"
   ]
  },
  {
   "cell_type": "code",
   "execution_count": 20,
   "metadata": {},
   "outputs": [
    {
     "name": "stderr",
     "output_type": "stream",
     "text": [
      "  9%|▉         | 1/11 [00:26<04:27, 26.71s/it]"
     ]
    },
    {
     "name": "stdout",
     "output_type": "stream",
     "text": [
      "Epoch: 0 | disc_loss: -0.11598329991102219 | gen_loss: 0.06355102360248566\n"
     ]
    },
    {
     "name": "stderr",
     "output_type": "stream",
     "text": [
      " 18%|█▊        | 2/11 [00:51<03:52, 25.78s/it]"
     ]
    },
    {
     "name": "stdout",
     "output_type": "stream",
     "text": [
      "Epoch: 1 | disc_loss: -0.0838475376367569 | gen_loss: 0.01779848523437977\n"
     ]
    },
    {
     "name": "stderr",
     "output_type": "stream",
     "text": [
      " 27%|██▋       | 3/11 [01:16<03:23, 25.44s/it]"
     ]
    },
    {
     "name": "stdout",
     "output_type": "stream",
     "text": [
      "Epoch: 2 | disc_loss: -0.08551366627216339 | gen_loss: 0.011756161227822304\n"
     ]
    },
    {
     "name": "stderr",
     "output_type": "stream",
     "text": [
      " 36%|███▋      | 4/11 [01:42<02:57, 25.42s/it]"
     ]
    },
    {
     "name": "stdout",
     "output_type": "stream",
     "text": [
      "Epoch: 3 | disc_loss: -0.09117566794157028 | gen_loss: 0.02119067683815956\n"
     ]
    },
    {
     "name": "stderr",
     "output_type": "stream",
     "text": [
      " 45%|████▌     | 5/11 [02:07<02:32, 25.44s/it]"
     ]
    },
    {
     "name": "stdout",
     "output_type": "stream",
     "text": [
      "Epoch: 4 | disc_loss: -0.09784441441297531 | gen_loss: 0.019511889666318893\n"
     ]
    },
    {
     "name": "stderr",
     "output_type": "stream",
     "text": [
      " 55%|█████▍    | 6/11 [02:32<02:06, 25.31s/it]"
     ]
    },
    {
     "name": "stdout",
     "output_type": "stream",
     "text": [
      "Epoch: 5 | disc_loss: -0.10329236835241318 | gen_loss: 0.014080505818128586\n"
     ]
    },
    {
     "name": "stderr",
     "output_type": "stream",
     "text": [
      " 64%|██████▎   | 7/11 [02:57<01:40, 25.20s/it]"
     ]
    },
    {
     "name": "stdout",
     "output_type": "stream",
     "text": [
      "Epoch: 6 | disc_loss: -0.1069607064127922 | gen_loss: 0.013367688283324242\n"
     ]
    },
    {
     "name": "stderr",
     "output_type": "stream",
     "text": [
      " 73%|███████▎  | 8/11 [03:22<01:15, 25.15s/it]"
     ]
    },
    {
     "name": "stdout",
     "output_type": "stream",
     "text": [
      "Epoch: 7 | disc_loss: -0.1078178882598877 | gen_loss: 0.011792030185461044\n"
     ]
    },
    {
     "name": "stderr",
     "output_type": "stream",
     "text": [
      " 82%|████████▏ | 9/11 [03:47<00:50, 25.10s/it]"
     ]
    },
    {
     "name": "stdout",
     "output_type": "stream",
     "text": [
      "Epoch: 8 | disc_loss: -0.11193545907735825 | gen_loss: 0.012757506221532822\n"
     ]
    },
    {
     "name": "stderr",
     "output_type": "stream",
     "text": [
      " 91%|█████████ | 10/11 [04:12<00:25, 25.00s/it]"
     ]
    },
    {
     "name": "stdout",
     "output_type": "stream",
     "text": [
      "Epoch: 9 | disc_loss: -0.1123923510313034 | gen_loss: 0.009389570914208889\n"
     ]
    },
    {
     "name": "stderr",
     "output_type": "stream",
     "text": [
      "100%|██████████| 11/11 [04:37<00:00, 25.27s/it]"
     ]
    },
    {
     "name": "stdout",
     "output_type": "stream",
     "text": [
      "Epoch: 10 | disc_loss: -0.11335256695747375 | gen_loss: 0.014304395765066147\n"
     ]
    },
    {
     "name": "stderr",
     "output_type": "stream",
     "text": [
      "\n"
     ]
    }
   ],
   "source": [
    "#Model training\n",
    "synth.fit(data = data_, train_arguments = train_args, num_cols = num_cols, cat_cols = cat_cols)\n",
    "\n",
    "#Saving the trained synthesizer\n",
    "synth.save(f'synthTaskPkl/{dataset_name}_{model_name}_synth.pkl') "
   ]
  },
  {
   "cell_type": "code",
   "execution_count": 21,
   "metadata": {},
   "outputs": [
    {
     "name": "stderr",
     "output_type": "stream",
     "text": [
      "Synthetic data generation: 100%|██████████| 805/805 [00:02<00:00, 331.19it/s]\n"
     ]
    }
   ],
   "source": [
    "synth = RegularSynthesizer.load(f'synthTaskPkl/{dataset_name}_{model_name}_synth.pkl')\n",
    "\n",
    "synth_sample = synth.sample(n_samples=len(data_))\n",
    "\n",
    "#Saving the synthetic sample as CSV\n",
    "synth_sample.to_csv(f'synthTaskCsv/{dataset_name}_{model_name}_synth.csv',index=False)"
   ]
  },
  {
   "cell_type": "code",
   "execution_count": 22,
   "metadata": {},
   "outputs": [
    {
     "name": "stdout",
     "output_type": "stream",
     "text": [
      "INFO:DataProfiler.profilers.profile_builder: Finding the Null values in the columns...  (with 3 processes)\n"
     ]
    },
    {
     "name": "stderr",
     "output_type": "stream",
     "text": [
      "/home/swati/anaconda3/envs/newAdult/lib/python3.8/site-packages/dataprofiler/profilers/profile_builder.py:2543: UserWarning: The data will be profiled with a sample size of 20608. All statistics will be based on this subsample and not the whole dataset.\n",
      "  warnings.warn(\n",
      "  0%|          | 0/17 [00:00<?, ?it/s]/home/swati/anaconda3/envs/newAdult/lib/python3.8/site-packages/dataprofiler/profilers/profile_builder.py:610: FutureWarning: Passing a set as an indexer is deprecated and will raise in a future version. Use a list instead.\n",
      "  df_series = df_series.loc[true_sample_list]\n",
      "/home/swati/anaconda3/envs/newAdult/lib/python3.8/site-packages/dataprofiler/profilers/profile_builder.py:610: FutureWarning: Passing a set as an indexer is deprecated and will raise in a future version. Use a list instead.\n",
      "  df_series = df_series.loc[true_sample_list]\n",
      "/home/swati/anaconda3/envs/newAdult/lib/python3.8/site-packages/dataprofiler/profilers/profile_builder.py:610: FutureWarning: Passing a set as an indexer is deprecated and will raise in a future version. Use a list instead.\n",
      "  df_series = df_series.loc[true_sample_list]\n",
      "/home/swati/anaconda3/envs/newAdult/lib/python3.8/site-packages/dataprofiler/profilers/profile_builder.py:610: FutureWarning: Passing a set as an indexer is deprecated and will raise in a future version. Use a list instead.\n",
      "  df_series = df_series.loc[true_sample_list]\n",
      "/home/swati/anaconda3/envs/newAdult/lib/python3.8/site-packages/dataprofiler/profilers/profile_builder.py:610: FutureWarning: Passing a set as an indexer is deprecated and will raise in a future version. Use a list instead.\n",
      "  df_series = df_series.loc[true_sample_list]\n",
      "/home/swati/anaconda3/envs/newAdult/lib/python3.8/site-packages/dataprofiler/profilers/profile_builder.py:610: FutureWarning: Passing a set as an indexer is deprecated and will raise in a future version. Use a list instead.\n",
      "  df_series = df_series.loc[true_sample_list]\n",
      " 24%|██▎       | 4/17 [00:00<00:00, 30.74it/s]/home/swati/anaconda3/envs/newAdult/lib/python3.8/site-packages/dataprofiler/profilers/profile_builder.py:610: FutureWarning: Passing a set as an indexer is deprecated and will raise in a future version. Use a list instead.\n",
      "  df_series = df_series.loc[true_sample_list]\n",
      "/home/swati/anaconda3/envs/newAdult/lib/python3.8/site-packages/dataprofiler/profilers/profile_builder.py:610: FutureWarning: Passing a set as an indexer is deprecated and will raise in a future version. Use a list instead.\n",
      "  df_series = df_series.loc[true_sample_list]\n",
      "/home/swati/anaconda3/envs/newAdult/lib/python3.8/site-packages/dataprofiler/profilers/profile_builder.py:610: FutureWarning: Passing a set as an indexer is deprecated and will raise in a future version. Use a list instead.\n",
      "  df_series = df_series.loc[true_sample_list]\n",
      "/home/swati/anaconda3/envs/newAdult/lib/python3.8/site-packages/dataprofiler/profilers/profile_builder.py:610: FutureWarning: Passing a set as an indexer is deprecated and will raise in a future version. Use a list instead.\n",
      "  df_series = df_series.loc[true_sample_list]\n",
      "/home/swati/anaconda3/envs/newAdult/lib/python3.8/site-packages/dataprofiler/profilers/profile_builder.py:610: FutureWarning: Passing a set as an indexer is deprecated and will raise in a future version. Use a list instead.\n",
      "  df_series = df_series.loc[true_sample_list]\n",
      "/home/swati/anaconda3/envs/newAdult/lib/python3.8/site-packages/dataprofiler/profilers/profile_builder.py:610: FutureWarning: Passing a set as an indexer is deprecated and will raise in a future version. Use a list instead.\n",
      "  df_series = df_series.loc[true_sample_list]\n",
      "/home/swati/anaconda3/envs/newAdult/lib/python3.8/site-packages/dataprofiler/profilers/profile_builder.py:610: FutureWarning: Passing a set as an indexer is deprecated and will raise in a future version. Use a list instead.\n",
      "  df_series = df_series.loc[true_sample_list]\n",
      "/home/swati/anaconda3/envs/newAdult/lib/python3.8/site-packages/dataprofiler/profilers/profile_builder.py:610: FutureWarning: Passing a set as an indexer is deprecated and will raise in a future version. Use a list instead.\n",
      "  df_series = df_series.loc[true_sample_list]\n",
      " 76%|███████▋  | 13/17 [00:00<00:00, 54.05it/s]/home/swati/anaconda3/envs/newAdult/lib/python3.8/site-packages/dataprofiler/profilers/profile_builder.py:610: FutureWarning: Passing a set as an indexer is deprecated and will raise in a future version. Use a list instead.\n",
      "  df_series = df_series.loc[true_sample_list]\n",
      "/home/swati/anaconda3/envs/newAdult/lib/python3.8/site-packages/dataprofiler/profilers/profile_builder.py:610: FutureWarning: Passing a set as an indexer is deprecated and will raise in a future version. Use a list instead.\n",
      "  df_series = df_series.loc[true_sample_list]\n",
      "/home/swati/anaconda3/envs/newAdult/lib/python3.8/site-packages/dataprofiler/profilers/profile_builder.py:610: FutureWarning: Passing a set as an indexer is deprecated and will raise in a future version. Use a list instead.\n",
      "  df_series = df_series.loc[true_sample_list]\n",
      "100%|██████████| 17/17 [00:00<00:00, 56.74it/s]\n"
     ]
    },
    {
     "name": "stdout",
     "output_type": "stream",
     "text": [
      "INFO:DataProfiler.profilers.profile_builder: Calculating the statistics...  (with 4 processes)\n"
     ]
    },
    {
     "name": "stderr",
     "output_type": "stream",
     "text": [
      "100%|██████████| 17/17 [00:02<00:00,  5.92it/s]\n",
      "/home/swati/anaconda3/envs/newAdult/lib/python3.8/site-packages/dataprofiler/profilers/utils.py:733: RuntimeWarning: Insufficient number of categories. Chi-squared test cannot be performed.\n",
      "  warnings.warn(\n"
     ]
    }
   ],
   "source": [
    "# #Generating the standard profiling report\n",
    "title = f\"Synthetic profile: {dataset_name}\"\n",
    "profile_synth_dt = ProfileReport(synth_sample, title=title, infer_dtypes=False)\n",
    "\n",
    "profile_synth = Profiler(synth_sample)"
   ]
  },
  {
   "cell_type": "code",
   "execution_count": 23,
   "metadata": {},
   "outputs": [
    {
     "data": {
      "application/json": {
       "ascii": false,
       "bar_format": null,
       "colour": null,
       "elapsed": 0.014590024948120117,
       "initial": 0,
       "n": 0,
       "ncols": null,
       "nrows": null,
       "postfix": null,
       "prefix": "Summarize dataset",
       "rate": null,
       "total": 5,
       "unit": "it",
       "unit_divisor": 1000,
       "unit_scale": false
      },
      "application/vnd.jupyter.widget-view+json": {
       "model_id": "2e39e9eafdc24ed485b450fbb5d36f2f",
       "version_major": 2,
       "version_minor": 0
      },
      "text/plain": [
       "Summarize dataset:   0%|          | 0/5 [00:00<?, ?it/s]"
      ]
     },
     "metadata": {},
     "output_type": "display_data"
    },
    {
     "name": "stderr",
     "output_type": "stream",
     "text": [
      "/home/swati/anaconda3/envs/newAdult/lib/python3.8/site-packages/pandas_profiling/model/pandas/correlations_pandas.py:29: FutureWarning: The default value of numeric_only in DataFrame.corr is deprecated. In a future version, it will default to False. Select only valid columns or specify the value of numeric_only to silence this warning.\n",
      "  return df.corr(method=\"spearman\")\n",
      "/home/swati/anaconda3/envs/newAdult/lib/python3.8/site-packages/pandas_profiling/model/pandas/correlations_pandas.py:36: FutureWarning: The default value of numeric_only in DataFrame.corr is deprecated. In a future version, it will default to False. Select only valid columns or specify the value of numeric_only to silence this warning.\n",
      "  return df.corr(method=\"pearson\")\n",
      "/home/swati/anaconda3/envs/newAdult/lib/python3.8/site-packages/pandas_profiling/model/pandas/correlations_pandas.py:43: FutureWarning: The default value of numeric_only in DataFrame.corr is deprecated. In a future version, it will default to False. Select only valid columns or specify the value of numeric_only to silence this warning.\n",
      "  return df.corr(method=\"kendall\")\n"
     ]
    },
    {
     "data": {
      "application/json": {
       "ascii": false,
       "bar_format": null,
       "colour": null,
       "elapsed": 0.0159146785736084,
       "initial": 0,
       "n": 0,
       "ncols": null,
       "nrows": null,
       "postfix": null,
       "prefix": "Generate report structure",
       "rate": null,
       "total": 1,
       "unit": "it",
       "unit_divisor": 1000,
       "unit_scale": false
      },
      "application/vnd.jupyter.widget-view+json": {
       "model_id": "47b25aaec7d14388a63fb23ce0eb1365",
       "version_major": 2,
       "version_minor": 0
      },
      "text/plain": [
       "Generate report structure:   0%|          | 0/1 [00:00<?, ?it/s]"
      ]
     },
     "metadata": {},
     "output_type": "display_data"
    },
    {
     "data": {
      "application/json": {
       "ascii": false,
       "bar_format": null,
       "colour": null,
       "elapsed": 0.01514291763305664,
       "initial": 0,
       "n": 0,
       "ncols": null,
       "nrows": null,
       "postfix": null,
       "prefix": "Render HTML",
       "rate": null,
       "total": 1,
       "unit": "it",
       "unit_divisor": 1000,
       "unit_scale": false
      },
      "application/vnd.jupyter.widget-view+json": {
       "model_id": "b8f2809c574b4155972bd0528b535b61",
       "version_major": 2,
       "version_minor": 0
      },
      "text/plain": [
       "Render HTML:   0%|          | 0/1 [00:00<?, ?it/s]"
      ]
     },
     "metadata": {},
     "output_type": "display_data"
    },
    {
     "data": {
      "application/json": {
       "ascii": false,
       "bar_format": null,
       "colour": null,
       "elapsed": 0.014992237091064453,
       "initial": 0,
       "n": 0,
       "ncols": null,
       "nrows": null,
       "postfix": null,
       "prefix": "Export report to file",
       "rate": null,
       "total": 1,
       "unit": "it",
       "unit_divisor": 1000,
       "unit_scale": false
      },
      "application/vnd.jupyter.widget-view+json": {
       "model_id": "cbdec3b92fb84f75ac50fdd2f1119097",
       "version_major": 2,
       "version_minor": 0
      },
      "text/plain": [
       "Export report to file:   0%|          | 0/1 [00:00<?, ?it/s]"
      ]
     },
     "metadata": {},
     "output_type": "display_data"
    }
   ],
   "source": [
    "# #Exploring as HTML outside Jupyter Notebook\n",
    "profile_synth_dt.to_file(f'profileTaskHtml/{dataset_name}_profile_synthetic.html')\n",
    "\n",
    "# #Exploring as HTML inside Jupyter Notebook\n",
    "# profile.to_notebook_iframe()"
   ]
  },
  {
   "cell_type": "code",
   "execution_count": 24,
   "metadata": {},
   "outputs": [
    {
     "data": {
      "application/json": {
       "ascii": false,
       "bar_format": null,
       "colour": null,
       "elapsed": 0.02019357681274414,
       "initial": 0,
       "n": 0,
       "ncols": null,
       "nrows": null,
       "postfix": null,
       "prefix": "Render JSON",
       "rate": null,
       "total": 1,
       "unit": "it",
       "unit_divisor": 1000,
       "unit_scale": false
      },
      "application/vnd.jupyter.widget-view+json": {
       "model_id": "ccfd5fd15d304a15aa85f3001ae021c9",
       "version_major": 2,
       "version_minor": 0
      },
      "text/plain": [
       "Render JSON:   0%|          | 0/1 [00:00<?, ?it/s]"
      ]
     },
     "metadata": {},
     "output_type": "display_data"
    },
    {
     "data": {
      "application/json": {
       "ascii": false,
       "bar_format": null,
       "colour": null,
       "elapsed": 0.01440882682800293,
       "initial": 0,
       "n": 0,
       "ncols": null,
       "nrows": null,
       "postfix": null,
       "prefix": "Export report to file",
       "rate": null,
       "total": 1,
       "unit": "it",
       "unit_divisor": 1000,
       "unit_scale": false
      },
      "application/vnd.jupyter.widget-view+json": {
       "model_id": "a641ff15f58c4e838375ca942893482d",
       "version_major": 2,
       "version_minor": 0
      },
      "text/plain": [
       "Export report to file:   0%|          | 0/1 [00:00<?, ?it/s]"
      ]
     },
     "metadata": {},
     "output_type": "display_data"
    }
   ],
   "source": [
    "# #Exploring as json profile\n",
    "profile_synth_dt.to_file(f'profileTaskJson/{dataset_name}_profile_synthetic.json')"
   ]
  },
  {
   "cell_type": "code",
   "execution_count": 25,
   "metadata": {},
   "outputs": [
    {
     "name": "stdout",
     "output_type": "stream",
     "text": [
      "Number of categorical: 16, Number of numerical: 1\n"
     ]
    }
   ],
   "source": [
    "file_synth = open(f'profileTaskJson/{dataset_name}_profile_synthetic.json','r')\n",
    "\n",
    "json_profile_synth = json.load(file_synth)\n",
    "\n",
    "num_cols_synth = [col for col, val in json_profile_synth['variables'].items() if val['type']=='Numeric']\n",
    "cat_cols_synth = [col for col, val in json_profile_synth['variables'].items() if val['type']=='Categorical']\n",
    "\n",
    "print(f'Number of categorical: {len(cat_cols_synth)}, Number of numerical: {len(num_cols_synth)}')"
   ]
  },
  {
   "cell_type": "markdown",
   "metadata": {},
   "source": [
    "Synthetic data & expectations"
   ]
  },
  {
   "cell_type": "code",
   "execution_count": 26,
   "metadata": {},
   "outputs": [],
   "source": [
    "def summarize_data_stats(data_stats, show_feats = None):\n",
    "    \"This function will help us preserving only the most indicative elements of the report in our analysis.\"\n",
    "    summarized = {}\n",
    "    stats_exclude_keys = ['min','max','sum','mean','median','mode','avg_predictions', 'data_label_representation', 'data_type_representation', 'histogram', 'times', 'precision', 'label_representation', 'categorical_count', 'categories', 't-test']\n",
    "    for feat_info in data_stats:\n",
    "        name = feat_info['column_name']\n",
    "        if show_feats and name not in show_feats:\n",
    "            continue\n",
    "        stats = {k: v for k, v in feat_info.pop('statistics').items() if k not in stats_exclude_keys}\n",
    "        feat_info['statistics'] = stats\n",
    "        summarized[name] = feat_info\n",
    "    return summarized"
   ]
  },
  {
   "cell_type": "code",
   "execution_count": 27,
   "metadata": {},
   "outputs": [
    {
     "name": "stderr",
     "output_type": "stream",
     "text": [
      "/home/swati/anaconda3/envs/newAdult/lib/python3.8/site-packages/dataprofiler/profilers/numerical_column_stats.py:665: RuntimeWarning: divide by zero encountered in log\n",
      "  iter_psi = (other_percent - self_percent) * np.log(\n"
     ]
    }
   ],
   "source": [
    "synth_diff_report = profile_real.diff(profile_synth)\n",
    "\n",
    "show_feats = ['MAR','DIS']\n",
    "\n",
    "# Print the report\n",
    "# print(json.dumps((summarize_data_stats(synth_diff_report['data_stats'],show_feats)),indent=4))"
   ]
  },
  {
   "cell_type": "code",
   "execution_count": 28,
   "metadata": {},
   "outputs": [
    {
     "data": {
      "image/png": "[encoded data removed]",
      "text/plain": [
       "<Figure size 640x480 with 16 Axes>"
      ]
     },
     "metadata": {},
     "output_type": "display_data"
    }
   ],
   "source": [
    "plt.real_fig = graphs.plot_histograms(profile_real)\n",
    "plt.real_fig.suptitle('Real data sample')\n",
    "plt.real_fig.tight_layout()\n",
    "\n",
    "plt.show()"
   ]
  },
  {
   "cell_type": "code",
   "execution_count": 29,
   "metadata": {},
   "outputs": [
    {
     "data": {
      "image/png": "[encoded data removed]",
      "text/plain": [
       "<Figure size 640x480 with 16 Axes>"
      ]
     },
     "metadata": {},
     "output_type": "display_data"
    }
   ],
   "source": [
    "plt.synth_fig1 = graphs.plot_histograms(profile_synth)\n",
    "plt.synth_fig1.suptitle('Synthetic data sample')\n",
    "plt.synth_fig1.tight_layout()\n",
    "\n",
    "plt.show()"
   ]
  },
  {
   "cell_type": "markdown",
   "metadata": {},
   "source": [
    "ML Utility Evaluation"
   ]
  },
  {
   "cell_type": "code",
   "execution_count": 30,
   "metadata": {},
   "outputs": [],
   "source": [
    "import numpy as np\n",
    "import pandas as pd \n",
    "from sklearn import metrics\n",
    "from sklearn import model_selection\n",
    "from sklearn.neural_network import MLPClassifier\n",
    "from sklearn.linear_model import LogisticRegression\n",
    "from sklearn import svm,tree\n",
    "from sklearn.ensemble import RandomForestClassifier\n",
    "from scipy.stats import wasserstein_distance\n",
    "from scipy.spatial import distance\n",
    "import warnings\n",
    "\n",
    "from sklearn.model_selection import train_test_split"
   ]
  },
  {
   "cell_type": "code",
   "execution_count": 31,
   "metadata": {},
   "outputs": [],
   "source": [
    "def supervised_model_training(x_train, y_train, x_test, y_test, model_name):\n",
    "  \n",
    "  \"\"\"\n",
    "  Trains and evaluates commonly used ML models\n",
    "\n",
    "  Inputs:\n",
    "  1) x_train -> indepedent features of training dataset\n",
    "  2) y_train -> dependent feature of training dataset\n",
    "  3) x_test -> independent features of testing dataset\n",
    "  4) y_test -> dependent feature of testing dataset \n",
    "  5) model_name -> name of ML model to be used\n",
    "\n",
    "\n",
    "  Outputs:\n",
    "  1) List of metrics containing accuracy, auc and f1-score of trained ML model as achieved on test-set.\n",
    "  \n",
    "  \"\"\"\n",
    "  \n",
    "  # Selecting the model\n",
    "  if model_name == 'lr':\n",
    "    model  = LogisticRegression(random_state=42,max_iter=500) \n",
    "  elif model_name == 'svm':\n",
    "    model  = svm.SVC(random_state=42,probability=True)\n",
    "  elif model_name == 'dt':\n",
    "    model  = tree.DecisionTreeClassifier(random_state=42)\n",
    "  elif model_name == 'rf':      \n",
    "    model = RandomForestClassifier(random_state=42)\n",
    "  elif model_name == \"mlp\":\n",
    "    model = MLPClassifier(random_state=42,max_iter=100)\n",
    "  \n",
    "  # Fitting the model and computing predictions on test data\n",
    "  model.fit(x_train, y_train)\n",
    "  pred = model.predict(x_test)\n",
    "\n",
    "  # In case of multi-class classification AUC and F1-scores are computed using weighted averages across all distinct labels\n",
    "  if len(np.unique(y_train))>2:\n",
    "    predict = model.predict_proba(x_test)        \n",
    "    acc = metrics.accuracy_score(y_test,pred)*100\n",
    "    auc = metrics.roc_auc_score(y_test, predict,average=\"weighted\",multi_class=\"ovr\")\n",
    "    f1_score = metrics.precision_recall_fscore_support(y_test, pred,average=\"weighted\")[2]\n",
    "    return [acc, auc, f1_score] \n",
    "\n",
    "  else:\n",
    "    predict = model.predict_proba(x_test)[:,1]    \n",
    "    acc = metrics.accuracy_score(y_test,pred)*100\n",
    "    auc = metrics.roc_auc_score(y_test, predict)\n",
    "    f1_score = metrics.precision_recall_fscore_support(y_test,pred)[2].mean()\n",
    "    return [acc, auc, f1_score] "
   ]
  },
  {
   "cell_type": "code",
   "execution_count": 32,
   "metadata": {},
   "outputs": [
    {
     "ename": "NameError",
     "evalue": "name 'scaler' is not defined",
     "output_type": "error",
     "traceback": [
      "\u001b[0;31m---------------------------------------------------------------------------\u001b[0m",
      "\u001b[0;31mNameError\u001b[0m                                 Traceback (most recent call last)",
      "Cell \u001b[0;32mIn[32], line 6\u001b[0m\n\u001b[1;32m      3\u001b[0m synth_sample \u001b[39m=\u001b[39m pd\u001b[39m.\u001b[39mread_csv(\u001b[39mf\u001b[39m\u001b[39m'\u001b[39m\u001b[39msynthTaskCsv/\u001b[39m\u001b[39m{\u001b[39;00mdataset_name\u001b[39m}\u001b[39;00m\u001b[39m_wgangp_synth.csv\u001b[39m\u001b[39m'\u001b[39m)\n\u001b[1;32m      4\u001b[0m synth_sample_tmp \u001b[39m=\u001b[39m pd\u001b[39m.\u001b[39mread_csv(\u001b[39mf\u001b[39m\u001b[39m'\u001b[39m\u001b[39msynthTaskCsv/\u001b[39m\u001b[39m{\u001b[39;00mdataset_name\u001b[39m}\u001b[39;00m\u001b[39m_wgangp_synth.csv\u001b[39m\u001b[39m'\u001b[39m)\n\u001b[0;32m----> 6\u001b[0m X_s \u001b[39m=\u001b[39m scaler\u001b[39m.\u001b[39mfit_transform(synth_sample_tmp\u001b[39m.\u001b[39mdrop(\u001b[39m'\u001b[39m\u001b[39mESR\u001b[39m\u001b[39m'\u001b[39m, \u001b[39m1\u001b[39m))\n\u001b[1;32m      7\u001b[0m Y_s \u001b[39m=\u001b[39m synth_sample_tmp[\u001b[39m'\u001b[39m\u001b[39mESR\u001b[39m\u001b[39m'\u001b[39m]\u001b[39m.\u001b[39mvalues\n\u001b[1;32m      9\u001b[0m X_train, X_test, Y_train, Y_test \u001b[39m=\u001b[39m train_test_split(X_s, Y_s, test_size\u001b[39m=\u001b[39m\u001b[39m0.2\u001b[39m)\n",
      "\u001b[0;31mNameError\u001b[0m: name 'scaler' is not defined"
     ]
    }
   ],
   "source": [
    "# Split Synth data\n",
    "\n",
    "synth_sample = pd.read_csv(f'synthTaskCsv/{dataset_name}_wgangp_synth.csv')\n",
    "synth_sample_tmp = pd.read_csv(f'synthTaskCsv/{dataset_name}_wgangp_synth.csv')\n",
    "\n",
    "X_s = scaler.fit_transform(synth_sample_tmp.drop('ESR', 1))\n",
    "Y_s = synth_sample_tmp['ESR'].values\n",
    "\n",
    "X_train, X_test, Y_train, Y_test = train_test_split(X_s, Y_s, test_size=0.2)"
   ]
  },
  {
   "cell_type": "code",
   "execution_count": null,
   "metadata": {},
   "outputs": [
    {
     "name": "stdout",
     "output_type": "stream",
     "text": [
      "Model evaluation\n",
      "\n",
      "LogisticRegression:\n",
      "Real: Acc: 88.51249696675563, AUC: 0.6500616707588386, f1_score: 0.49394302467853984\n",
      "Synth: Acc: 95.41440217391305, AUC: 0.6951877223364414, f1_score: 0.4893223746125679\n",
      "\n",
      "DecisionTree:\n",
      "Real: Acc: 83.32443581654938, AUC: 0.6166815829212343, f1_score: 0.5893899170892041\n",
      "Synth: Acc: 95.2251552795031, AUC: 0.7189405399395847, f1_score: 0.505407034940556\n",
      "\n"
     ]
    }
   ],
   "source": [
    "print(f'Model evaluation\\n')\n",
    "\n",
    "acc, auc, f1_score = supervised_model_training(x_train, y_train, x_test, y_test, 'lr')\n",
    "acc_s, auc_s, f1_score_s = supervised_model_training(X_train, Y_train, X_test, Y_test, 'lr')\n",
    "\n",
    "print('LogisticRegression:')\n",
    "print(f'Real: Acc: {acc}, AUC: {auc}, f1_score: {f1_score}')\n",
    "print(f'Synth: Acc: {acc_s}, AUC: {auc_s}, f1_score: {f1_score_s}\\n')\n",
    "\n",
    "acc, auc, f1_score = supervised_model_training(x_train, y_train, x_test, y_test, 'dt')\n",
    "acc_s, auc_s, f1_score_s = supervised_model_training(X_train, Y_train, X_test, Y_test, 'dt')\n",
    "\n",
    "print('DecisionTree:')\n",
    "print(f'Real: Acc: {acc}, AUC: {auc}, f1_score: {f1_score}')\n",
    "print(f'Synth: Acc: {acc_s}, AUC: {auc_s}, f1_score: {f1_score_s}\\n')"
   ]
  },
  {
   "cell_type": "code",
   "execution_count": null,
   "metadata": {},
   "outputs": [
    {
     "data": {
      "image/png": "[encoded data removed]",
      "text/plain": [
       "<Figure size 900x300 with 2 Axes>"
      ]
     },
     "metadata": {},
     "output_type": "display_data"
    }
   ],
   "source": [
    "# Generate bar charts to show class distribution in real and synthetic data\n",
    "\n",
    "real_true = data_['ESR'].value_counts()['True']\n",
    "real_false = data_['ESR'].value_counts()['False']\n",
    "\n",
    "synth_true = synth_sample['ESR'].value_counts()[True]\n",
    "synth_false = synth_sample['ESR'].value_counts()[False]\n",
    "\n",
    "height_real = [real_true, real_false]\n",
    "height_synth = [synth_true, synth_false]\n",
    "\n",
    "bars = ('True', 'False')\n",
    "y_pos = np.arange(len(bars))\n",
    "\n",
    "# Create bars\n",
    "f, (ax1, ax2) = plt.subplots(1, 2, figsize=(9,3))\n",
    "\n",
    "ax1.bar(y_pos, height_real)\n",
    "ax1.set_title('Real Data')\n",
    "ax1.set_xticks(y_pos, bars)\n",
    "\n",
    "ax2.bar(y_pos, height_synth)\n",
    "ax2.set_title('Synth Data')\n",
    "ax2.set_xticks(y_pos, bars)\n",
    "\n",
    "# Show graphic\n",
    "plt.show()"
   ]
  },
  {
   "cell_type": "code",
   "execution_count": null,
   "metadata": {},
   "outputs": [
    {
     "data": {
      "image/png": "[encoded data removed]",
      "text/plain": [
       "<Figure size 900x300 with 2 Axes>"
      ]
     },
     "metadata": {},
     "output_type": "display_data"
    }
   ],
   "source": [
    "# Real Data\n",
    "\n",
    "x = ['Male', 'Female']\n",
    "y1 = [data_[data_['ESR'].eq('True')].value_counts(subset=['SEX'])[0],data_[data_['ESR'].eq('True')].value_counts(subset=['SEX'])[1]]\n",
    "y2 = [data_[data_['ESR'].eq('False')].value_counts(subset=['SEX'])[0],data_[data_['ESR'].eq('False')].value_counts(subset=['SEX'])[1]]\n",
    "\n",
    "# Synth Data\n",
    "\n",
    "y1_s = [synth_sample[synth_sample['ESR'].eq(True)].value_counts(subset=['SEX'])[1.0],synth_sample[synth_sample['ESR'].eq(True)].value_counts(subset=['SEX'])[2.0]]\n",
    "y2_s = [synth_sample[synth_sample['ESR'].eq(False)].value_counts(subset=['SEX'])[1.0],synth_sample[synth_sample['ESR'].eq(False)].value_counts(subset=['SEX'])[2.0]]\n",
    " \n",
    "# Create bars\n",
    "f, (ax1, ax2) = plt.subplots(1, 2, figsize=(9,3))\n",
    "\n",
    "ax1.bar(x, y1)\n",
    "ax1.bar(x, y2, bottom=y1)\n",
    "ax1.set_title('Real Data')\n",
    "\n",
    "ax2.bar(x, y1_s)\n",
    "ax2.bar(x, y2_s, bottom=y1_s)\n",
    "ax2.set_title('Synth Data')\n",
    "\n",
    "plt.legend(['Has Employment','No Employment'],loc=1, prop={'size': 6})\n",
    "\n",
    "# Show graphic\n",
    "plt.show()"
   ]
  }
 ],
 "metadata": {
  "kernelspec": {
   "display_name": "Python 3.8.5 ('newAdult')",
   "language": "python",
   "name": "python3"
  },
  "language_info": {
   "codemirror_mode": {
    "name": "ipython",
    "version": 3
   },
   "file_extension": ".py",
   "mimetype": "text/x-python",
   "name": "python",
   "nbconvert_exporter": "python",
   "pygments_lexer": "ipython3",
   "version": "3.8.5"
  },
  "orig_nbformat": 4,
  "vscode": {
   "interpreter": {
    "hash": "76aa38bda0b10141641fc467ca97de2e1b844ed70cde0b8bdca430b234bcc1ed"
   }
  }
 },
 "nbformat": 4,
 "nbformat_minor": 2
}
